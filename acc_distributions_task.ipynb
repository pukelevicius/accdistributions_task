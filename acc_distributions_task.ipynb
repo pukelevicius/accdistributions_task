{
  "nbformat": 4,
  "nbformat_minor": 0,
  "metadata": {
    "colab": {
      "provenance": [],
      "gpuType": "T4"
    },
    "kernelspec": {
      "name": "python3",
      "display_name": "Python 3"
    },
    "language_info": {
      "name": "python"
    },
    "accelerator": "GPU"
  },
  "cells": [
    {
      "cell_type": "code",
      "execution_count": 1,
      "metadata": {
        "colab": {
          "base_uri": "https://localhost:8080/"
        },
        "id": "KJa1QViZREkk",
        "outputId": "36e9e419-cbd8-4552-ee8d-43fc2bfcf6ba"
      },
      "outputs": [
        {
          "output_type": "stream",
          "name": "stdout",
          "text": [
            "Requirement already satisfied: python-docx in /usr/local/lib/python3.10/dist-packages (1.1.2)\n",
            "Requirement already satisfied: lxml>=3.1.0 in /usr/local/lib/python3.10/dist-packages (from python-docx) (4.9.4)\n",
            "Requirement already satisfied: typing-extensions>=4.9.0 in /usr/local/lib/python3.10/dist-packages (from python-docx) (4.11.0)\n"
          ]
        }
      ],
      "source": [
        "pip install python-docx\n"
      ]
    },
    {
      "cell_type": "code",
      "source": [
        "pip install faiss-gpu"
      ],
      "metadata": {
        "colab": {
          "base_uri": "https://localhost:8080/"
        },
        "id": "-EddvH3MAB_b",
        "outputId": "9adf0588-33b9-4bb8-c72d-a018c2710e03"
      },
      "execution_count": 2,
      "outputs": [
        {
          "output_type": "stream",
          "name": "stdout",
          "text": [
            "Requirement already satisfied: faiss-gpu in /usr/local/lib/python3.10/dist-packages (1.7.2)\n"
          ]
        }
      ]
    },
    {
      "cell_type": "code",
      "source": [
        "from docx import Document\n",
        "import re\n",
        "from transformers import AutoModel, AutoTokenizer\n",
        "import numpy as np\n",
        "import torch\n",
        "import faiss"
      ],
      "metadata": {
        "id": "Kf7flEAL8-yH"
      },
      "execution_count": 3,
      "outputs": []
    },
    {
      "cell_type": "markdown",
      "source": [
        "Loading unstructure data from word document:"
      ],
      "metadata": {
        "id": "rntUkOnr6WMs"
      }
    },
    {
      "cell_type": "code",
      "source": [
        "def read_docx(file_path):\n",
        "    # Load the document\n",
        "    doc = Document(file_path)\n",
        "    full_text = []\n",
        "\n",
        "    # Iterate through each paragraph in the document\n",
        "    for para in doc.paragraphs:\n",
        "        full_text.append(para.text)\n",
        "\n",
        "    # Join all text into a single string\n",
        "    return '\\n'.join(full_text), doc.paragraphs\n",
        "\n",
        "# Example usage\n",
        "file_path = 'grazinimu-taisykles.docx'\n",
        "document_text, paragraphs = read_docx(file_path)\n"
      ],
      "metadata": {
        "id": "0XpA41mORLKs"
      },
      "execution_count": 4,
      "outputs": []
    },
    {
      "cell_type": "markdown",
      "source": [
        "Preprocessing raw text to paragraphs and storing paragraphs into list:"
      ],
      "metadata": {
        "id": "UwPDUxxB6a7u"
      }
    },
    {
      "cell_type": "code",
      "source": [
        "contexts = [paragraphs[i].text for i in range(len(paragraphs)) if len(paragraphs[i].text) != 0]\n",
        "\n",
        "questions = [\"kaip grąžinti prekę\",\n",
        "             \"kokios yra grąžinimo taisyklės\",\n",
        "             \"kokie yra prekių pažeidimo tipai\",\n",
        "             \"prekė buvo pažeista transportavimo metu\"]"
      ],
      "metadata": {
        "id": "xo-BeicLgc4q"
      },
      "execution_count": 5,
      "outputs": []
    },
    {
      "cell_type": "markdown",
      "source": [
        "Load google T5 language model and tokenize text data:"
      ],
      "metadata": {
        "id": "tugzsJ0rhxre"
      }
    },
    {
      "cell_type": "code",
      "source": [
        "model_name = \"sentence-transformers/LaBSE\"\n",
        "tokenizer = AutoTokenizer.from_pretrained(model_name)\n",
        "model = AutoModel.from_pretrained(model_name)"
      ],
      "metadata": {
        "colab": {
          "base_uri": "https://localhost:8080/"
        },
        "id": "pAoRP_nFhwie",
        "outputId": "8efa6a0e-6a74-48d6-8028-df36fc265bda"
      },
      "execution_count": 6,
      "outputs": [
        {
          "output_type": "stream",
          "name": "stderr",
          "text": [
            "/usr/local/lib/python3.10/dist-packages/huggingface_hub/utils/_token.py:88: UserWarning: \n",
            "The secret `HF_TOKEN` does not exist in your Colab secrets.\n",
            "To authenticate with the Hugging Face Hub, create a token in your settings tab (https://huggingface.co/settings/tokens), set it as secret in your Google Colab and restart your session.\n",
            "You will be able to reuse this secret in all of your notebooks.\n",
            "Please note that authentication is recommended but still optional to access public models or datasets.\n",
            "  warnings.warn(\n"
          ]
        }
      ]
    },
    {
      "cell_type": "code",
      "source": [
        "context_inputs = tokenizer(contexts)\n",
        "questions_inputs = tokenizer(questions)\n",
        "\n",
        "context_inputs_pt = tokenizer(contexts, return_tensors=\"pt\", truncation=True, padding=True)\n",
        "questions_inputs_pt = tokenizer(questions, return_tensors=\"pt\", truncation=True, padding=True)"
      ],
      "metadata": {
        "id": "A699yYzTumJu"
      },
      "execution_count": 7,
      "outputs": []
    },
    {
      "cell_type": "markdown",
      "source": [
        "Defining matching function which retrieves the context paragraph with most matching tokens:"
      ],
      "metadata": {
        "id": "8rLcGOCB9mxD"
      }
    },
    {
      "cell_type": "code",
      "source": [
        "def match_context(question_id, contexts_ids):\n",
        "  question_set = set(question_id)\n",
        "  counts = []\n",
        "\n",
        "  for ids in contexts_ids:\n",
        "    common_elements = question_set & set(ids)\n",
        "    counts.append(len(common_elements))\n",
        "\n",
        "  predicted_index = np.argmax(counts)\n",
        "  return int(predicted_index)\n"
      ],
      "metadata": {
        "id": "LlBtwSL9zERH"
      },
      "execution_count": 8,
      "outputs": []
    },
    {
      "cell_type": "markdown",
      "source": [
        "Defining matching function which retrieves the context paragraph by measuring cosine similarit scores of T5 embeddings of last hidden state:"
      ],
      "metadata": {
        "id": "6qdyeaa2-_o_"
      }
    },
    {
      "cell_type": "code",
      "source": [
        "def get_embeddings(tokenized_inputs):\n",
        "  with torch.no_grad():\n",
        "    outputs = model(**tokenized_inputs)\n",
        "\n",
        "  embeddings = outputs.last_hidden_state\n",
        "  attention_mask = tokenized_inputs['attention_mask']\n",
        "  extended_attention_mask = attention_mask.unsqueeze(-1).expand(embeddings.size())\n",
        "  masked_embeddings = embeddings * extended_attention_mask\n",
        "  summed_embeddings = torch.sum(masked_embeddings, dim=1)\n",
        "  summed_mask = torch.clamp(extended_attention_mask.sum(1), min=1e-9)\n",
        "  mean_pooled_embeddings = summed_embeddings / summed_mask\n",
        "\n",
        "  return mean_pooled_embeddings\n",
        "\n",
        "def semantic_search(q_embedding, c_embeddings):\n",
        "  dim = c_embeddings.shape[1]\n",
        "  index = faiss.IndexFlatIP(dim)\n",
        "\n",
        "  index.add(c_embeddings)\n",
        "\n",
        "  scores, corpus_ids = index.search(q_embedding.reshape(1, -1), k=1)\n",
        "\n",
        "  return corpus_ids[0][0]"
      ],
      "metadata": {
        "id": "2t4Bvyqm_h4X"
      },
      "execution_count": 9,
      "outputs": []
    },
    {
      "cell_type": "markdown",
      "source": [
        "Results:\n",
        "\n",
        "Matching by token count:"
      ],
      "metadata": {
        "id": "bq5HH-fS-W4l"
      }
    },
    {
      "cell_type": "code",
      "source": [
        "predicted_context = match_context(questions_inputs['input_ids'][0], context_inputs['input_ids'])\n",
        "print(f\"klausimas: {questions[0]}\",\"\\n\",\n",
        "      f\"atspėtas kontekstas ({predicted_context}) \\n\",\n",
        "      f\"surasta informacija : {contexts[predicted_context]}\")"
      ],
      "metadata": {
        "colab": {
          "base_uri": "https://localhost:8080/"
        },
        "id": "bfDdOIih3w_N",
        "outputId": "e5352ae3-136e-437e-a657-94ac9339538f"
      },
      "execution_count": 10,
      "outputs": [
        {
          "output_type": "stream",
          "name": "stdout",
          "text": [
            "klausimas: kaip grąžinti prekę \n",
            " atspėtas kontekstas (37) \n",
            " surasta informacija : Grąžinamą prekę būtina užregistruoti adresu http://www.accdistribution.net/_al/lt-lt/returns užpildžius reikiamus laukus. Grąžinama prekė turi būti tvarkinga: nepažeista pakuotė, prekė švari, nesubraižyta, prekės serijos numeriai ant pakuotės ir prekės turi sutapti, prekė turi būti pilnos komplektacijos, programinė įranga (jei tokia yra) turi būti tokia pati kaip naujos prekės. „By Order“ (Užsakoma iš anksto) požymiu pažymėtų arba pagal specialų kliento užsakymą pristatytų prekių grąžinimai nepriimami (tai nustačius prekės bus grąžintos pirkėjui).\n"
          ]
        }
      ]
    },
    {
      "cell_type": "code",
      "source": [
        "predicted_context = match_context(questions_inputs['input_ids'][1], context_inputs['input_ids'])\n",
        "print(f\"klausimas: {questions[1]}\",\"\\n\",\n",
        "      f\"atspėtas kontekstas ({predicted_context}) \\n\",\n",
        "      f\"surasta informacija : {contexts[predicted_context]}\")"
      ],
      "metadata": {
        "colab": {
          "base_uri": "https://localhost:8080/"
        },
        "id": "QHPZc2H34nCY",
        "outputId": "405e7e8d-797e-4dea-c3be-4a115d3c454c"
      },
      "execution_count": 11,
      "outputs": [
        {
          "output_type": "stream",
          "name": "stdout",
          "text": [
            "klausimas: kokios yra grąžinimo taisyklės \n",
            " atspėtas kontekstas (28) \n",
            " surasta informacija : Vartotojas turi galimybę susipažinti su grąžinimo taisyklėmis ir jei grąžinimas registruotas per grąžinimo tipą, kuris yra apmokestinamas – mato preliminarią paskaičiuotą grąžinimo kainą. Jei visos sąlygos tinka, vartotojas turi pažymėti sutikimą su grąžinimo taisyklėmis (7)  ir spausti mygtuką “Grąžinti” (8).\n"
          ]
        }
      ]
    },
    {
      "cell_type": "code",
      "source": [
        "predicted_context = match_context(questions_inputs['input_ids'][2], context_inputs['input_ids'])\n",
        "print(f\"klausimas: {questions[2]}\",\"\\n\",\n",
        "      f\"atspėtas kontekstas ({predicted_context}) \\n\",\n",
        "      f\"surasta informacija: {contexts[predicted_context]}\")"
      ],
      "metadata": {
        "colab": {
          "base_uri": "https://localhost:8080/"
        },
        "id": "TLyDlyIB4nI8",
        "outputId": "4049e081-8b57-45f8-9168-8b085275b6b5"
      },
      "execution_count": 12,
      "outputs": [
        {
          "output_type": "stream",
          "name": "stdout",
          "text": [
            "klausimas: kokie yra prekių pažeidimo tipai \n",
            " atspėtas kontekstas (37) \n",
            " surasta informacija: Grąžinamą prekę būtina užregistruoti adresu http://www.accdistribution.net/_al/lt-lt/returns užpildžius reikiamus laukus. Grąžinama prekė turi būti tvarkinga: nepažeista pakuotė, prekė švari, nesubraižyta, prekės serijos numeriai ant pakuotės ir prekės turi sutapti, prekė turi būti pilnos komplektacijos, programinė įranga (jei tokia yra) turi būti tokia pati kaip naujos prekės. „By Order“ (Užsakoma iš anksto) požymiu pažymėtų arba pagal specialų kliento užsakymą pristatytų prekių grąžinimai nepriimami (tai nustačius prekės bus grąžintos pirkėjui).\n"
          ]
        }
      ]
    },
    {
      "cell_type": "code",
      "source": [
        "predicted_context = match_context(questions_inputs['input_ids'][3], context_inputs['input_ids'])\n",
        "print(f\"klausimas: {questions[3]}\",\"\\n\",\n",
        "      f\"atspėtas kontekstas ({predicted_context}) \\n\",\n",
        "      f\"surasta informacija: {contexts[predicted_context]}\")"
      ],
      "metadata": {
        "colab": {
          "base_uri": "https://localhost:8080/"
        },
        "id": "skSHIQeE4nP7",
        "outputId": "b4f9e7df-1654-4df3-ba0d-922532429ee0"
      },
      "execution_count": 13,
      "outputs": [
        {
          "output_type": "stream",
          "name": "stdout",
          "text": [
            "klausimas: prekė buvo pažeista transportavimo metu \n",
            " atspėtas kontekstas (50) \n",
            " surasta informacija: Galima grąžinti prekes, kurios buvo apgadintos transportavimo metu, be atskiro vadybininko grąžinimo patvirtinimo. Vykdant šio tipo grąžinimą, tolesniuose vedlio žingsniuose bus prašoma nurodyti pažeidimus įrodančius dokumentus: vežėjo pažeidimo aktą, nuotraukas. Jokie papildomi mokesčiai nebus skaičiuojami. Prekės grąžinimas nepriimamas jei nebuvo laikomasi prekių pristatymo tvarkoje nurodytų siuntų priėmimo sąlygų (https://accdistribution.net/_al/lt-lt/page/products-delivery).\n"
          ]
        }
      ]
    },
    {
      "cell_type": "markdown",
      "source": [
        "matching by cosine similarity:"
      ],
      "metadata": {
        "id": "5VFPmXNVGIdm"
      }
    },
    {
      "cell_type": "code",
      "source": [
        "c_embeddings = get_embeddings(context_inputs_pt)\n",
        "q_embeddings = get_embeddings(questions_inputs_pt)"
      ],
      "metadata": {
        "id": "aGSScuTWGRNm"
      },
      "execution_count": 14,
      "outputs": []
    },
    {
      "cell_type": "code",
      "source": [
        "predicted_context = semantic_search(np.array(q_embeddings[0]), c_embeddings.numpy())\n",
        "print(f\"klausimas: {questions[0]}\",\"\\n\",\n",
        "      f\"atspėtas kontekstas ({predicted_context}) \\n\",\n",
        "      f\"surasta informacija: {contexts[predicted_context]}\")"
      ],
      "metadata": {
        "colab": {
          "base_uri": "https://localhost:8080/"
        },
        "id": "9Y2jPcagGRvi",
        "outputId": "eb6f0dd4-0afa-4a21-8ae0-30c9b4548d81"
      },
      "execution_count": 15,
      "outputs": [
        {
          "output_type": "stream",
          "name": "stdout",
          "text": [
            "klausimas: kaip grąžinti prekę \n",
            " atspėtas kontekstas (2) \n",
            " surasta informacija: Inicijuoti prekės grąžinimą galima dviem būdais: \n"
          ]
        }
      ]
    },
    {
      "cell_type": "code",
      "source": [
        "predicted_context = semantic_search(np.array(q_embeddings[1]), c_embeddings.numpy())\n",
        "print(f\"klausimas: {questions[1]}\",\"\\n\",\n",
        "      f\"atspėtas kontekstas ({predicted_context}) \\n\",\n",
        "      f\"surasta informacija: {contexts[predicted_context]}\")"
      ],
      "metadata": {
        "colab": {
          "base_uri": "https://localhost:8080/"
        },
        "id": "Vh-b3qu5GkGu",
        "outputId": "e5cfb9ef-53d5-45d6-e1f9-199d515de533"
      },
      "execution_count": 16,
      "outputs": [
        {
          "output_type": "stream",
          "name": "stdout",
          "text": [
            "klausimas: kokios yra grąžinimo taisyklės \n",
            " atspėtas kontekstas (36) \n",
            " surasta informacija: Grąžinimų taisyklės\n"
          ]
        }
      ]
    },
    {
      "cell_type": "code",
      "source": [
        "predicted_context = semantic_search(np.array(q_embeddings[2]), c_embeddings.numpy())\n",
        "print(f\"klausimas: {questions[2]}\",\"\\n\",\n",
        "      f\"atspėtas kontekstas ({predicted_context}) \\n\",\n",
        "      f\"surasta informacija: {contexts[predicted_context]}\")"
      ],
      "metadata": {
        "colab": {
          "base_uri": "https://localhost:8080/"
        },
        "id": "FinppKk8GkV-",
        "outputId": "0fbee1fe-d056-4830-a7f9-8169eb497e00"
      },
      "execution_count": 17,
      "outputs": [
        {
          "output_type": "stream",
          "name": "stdout",
          "text": [
            "klausimas: kokie yra prekių pažeidimo tipai \n",
            " atspėtas kontekstas (41) \n",
            " surasta informacija: Pažeidimų tipai:\n"
          ]
        }
      ]
    },
    {
      "cell_type": "code",
      "source": [
        "predicted_context = semantic_search(np.array(q_embeddings[3]), c_embeddings.numpy())\n",
        "print(f\"klausimas: {questions[3]}\",\"\\n\",\n",
        "      f\"atspėtas kontekstas ({predicted_context}) \\n\",\n",
        "      f\"surasta informacija: {contexts[predicted_context]}\")"
      ],
      "metadata": {
        "colab": {
          "base_uri": "https://localhost:8080/"
        },
        "id": "juBF3_h4GkmA",
        "outputId": "bcda3b6c-2638-4559-9495-056de8d2ba5b"
      },
      "execution_count": 18,
      "outputs": [
        {
          "output_type": "stream",
          "name": "stdout",
          "text": [
            "klausimas: prekė buvo pažeista transportavimo metu \n",
            " atspėtas kontekstas (14) \n",
            " surasta informacija: Transportavimo metu pažeista prekė (su pažeidimo aktu, nuotraukomis)\n"
          ]
        }
      ]
    }
  ]
}